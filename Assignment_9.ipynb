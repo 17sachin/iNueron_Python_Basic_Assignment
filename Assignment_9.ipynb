{
  "nbformat": 4,
  "nbformat_minor": 0,
  "metadata": {
    "colab": {
      "name": "Assignment_9.ipynb",
      "provenance": [],
      "collapsed_sections": [],
      "authorship_tag": "ABX9TyOmU1ATqvy2rayE/FFX+yJ3",
      "include_colab_link": true
    },
    "kernelspec": {
      "name": "python3",
      "display_name": "Python 3"
    },
    "language_info": {
      "name": "python"
    }
  },
  "cells": [
    {
      "cell_type": "markdown",
      "metadata": {
        "id": "view-in-github",
        "colab_type": "text"
      },
      "source": [
        "<a href=\"https://colab.research.google.com/github/17sachin/iNueron_Python_Basic_Assignment/blob/main/Assignment_9.ipynb\" target=\"_parent\"><img src=\"https://colab.research.google.com/assets/colab-badge.svg\" alt=\"Open In Colab\"/></a>"
      ]
    },
    {
      "cell_type": "markdown",
      "source": [
        "1.To what does a relative path refer?\n",
        "\n",
        "Ans:\n",
        "The relative path is the path to some file with respect to current working directory."
      ],
      "metadata": {
        "id": "2PtPP3KOHba0"
      }
    },
    {
      "cell_type": "markdown",
      "source": [
        "2.What does an absolute path start with your operating system?\n",
        "\n",
        "Ans:\n",
        "Absolute path names always begin with the slash (/) symbol. Starting from the root element and ending with the other subdirectories\n"
      ],
      "metadata": {
        "id": "6mi1tn5iHyG5"
      }
    },
    {
      "cell_type": "markdown",
      "source": [
        "3.What do the functions os.getcwd() and os.chdir() do?\n",
        "\n",
        "Ans:\n",
        "\n",
        "os.getcwd()- Function allows to see what is the current working directory.\n",
        "\n",
        "os.chdir() - Method is used to change the current working directory to specified path. It takes only a single argument as new directory path"
      ],
      "metadata": {
        "id": "EpPkOp20ILOS"
      }
    },
    {
      "cell_type": "markdown",
      "source": [
        "4.What are the . and .. folders?\n",
        "\n",
        "Ans:\n",
        "The . is the current directory, while .. signifies the parent directory."
      ],
      "metadata": {
        "id": "sJgHoFXmI14K"
      }
    },
    {
      "cell_type": "markdown",
      "source": [
        "5.In C:\\bacon\\eggs\\spam.txt, which part is the dir name, and which part is the base name?\n",
        "\n",
        "Ans:\n",
        "dir name = C:\\bacon\\eggs\n",
        "\n",
        "base name = spam.txt"
      ],
      "metadata": {
        "id": "6VXFfG1QJLwq"
      }
    },
    {
      "cell_type": "markdown",
      "source": [
        "6.What are the three “mode” arguments that can be passed to the open() function?\n",
        "\n",
        "Ans:\n",
        "\n",
        "'r' for read\n",
        "\n",
        "'w' for write\n",
        "\n",
        "'a' for append"
      ],
      "metadata": {
        "id": "_-T3PhaiJ0J6"
      }
    },
    {
      "cell_type": "markdown",
      "source": [
        "7.What happens if an existing file is opened in write mode?\n",
        "\n",
        "Ans:\n",
        "It overwrites the existing file and starts from scratch\n"
      ],
      "metadata": {
        "id": "U7YVxm-bKWIq"
      }
    },
    {
      "cell_type": "markdown",
      "source": [
        "8.How do you tell the difference between read() and readlines()?\n",
        "\n",
        "Ans:\n",
        "The read() method passes the entire file as a string.\n",
        "\n",
        "The readlines() method provides a list of string values - one string for each line of text.\n"
      ],
      "metadata": {
        "id": "YM4RhvY-KmHx"
      }
    },
    {
      "cell_type": "markdown",
      "source": [
        "9.What data structure does a shelf value resemble?\n",
        "\n",
        "Ans:\n",
        "It resembles a dictionary\n"
      ],
      "metadata": {
        "id": "PjFIFJP-K1X5"
      }
    },
    {
      "cell_type": "markdown",
      "source": [
        ""
      ],
      "metadata": {
        "id": "ns7merm1KTXR"
      }
    }
  ]
}