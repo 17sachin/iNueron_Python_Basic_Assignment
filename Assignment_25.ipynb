{
  "nbformat": 4,
  "nbformat_minor": 0,
  "metadata": {
    "colab": {
      "name": "Assignment_25.ipynb",
      "provenance": [],
      "collapsed_sections": [],
      "authorship_tag": "ABX9TyNo6KJsyIPbPqsm9H45P7fv",
      "include_colab_link": true
    },
    "kernelspec": {
      "name": "python3",
      "display_name": "Python 3"
    },
    "language_info": {
      "name": "python"
    }
  },
  "cells": [
    {
      "cell_type": "markdown",
      "metadata": {
        "id": "view-in-github",
        "colab_type": "text"
      },
      "source": [
        "<a href=\"https://colab.research.google.com/github/17sachin/iNueron_Python_Basic_Assignment/blob/main/Assignment_25.ipynb\" target=\"_parent\"><img src=\"https://colab.research.google.com/assets/colab-badge.svg\" alt=\"Open In Colab\"/></a>"
      ]
    },
    {
      "cell_type": "markdown",
      "source": [
        "1)What is the difference between enclosing a list comprehension in square brackets and parentheses?\n",
        "\n",
        "The difference between the two kinds of expressions is that the List comprehension is enclosed in square brackets [] while the Generator expression is enclosed in plain parentheses ().\n",
        "\n",
        "Parentheses are punctuation marks that are used to set off information within a text or paragraph. Brackets, sometimes called square brackets, are most often used to show that words have been added to a direct quotation"
      ],
      "metadata": {
        "id": "9WVYncm9VTRo"
      }
    },
    {
      "cell_type": "markdown",
      "source": [
        "2)What is the relationship between generators and iterators?\n",
        "\n",
        "Every generator is an iterator, but not vice versa. A generator is built by calling a function that has one or more yield expressions ( yield statements, in Python 2.5 and earlier), and is an object that meets the previous paragraph's definition of an iterator .\n",
        "\n",
        "An iterator does not make use of local variables, all it needs is iterable to iterate on. A generator may have any number of 'yield' statements. You can implement your own iterator using a python class; a generator does not need a class in python.\n",
        "\n"
      ],
      "metadata": {
        "id": "gVmm5z6vVfsI"
      }
    },
    {
      "cell_type": "markdown",
      "source": [
        "3)What are the signs that a function is a generator function?\n",
        "\n",
        "If a function contains at least one yield statement (it may contain other yield or return statements), it becomes a generator function. Both yield and return will return some value from a function"
      ],
      "metadata": {
        "id": "v2XhHJINV-oQ"
      }
    },
    {
      "cell_type": "markdown",
      "source": [
        "4)What is the purpose of a yield statement?\n",
        "\n",
        "The yield statement suspends function's execution and sends a value back to the caller, but retains enough state to enable function to resume where it is left off. When resumed, the function continues execution immediately after the last yield run."
      ],
      "metadata": {
        "id": "MMxMd6MdWFTv"
      }
    },
    {
      "cell_type": "markdown",
      "source": [
        "5) What is the relationship between map calls and list comprehensions? Make a comparison and contrast between the two.\n",
        "\n",
        "List comprehension is more concise and easier to read as compared to map. List comprehension are used when a list of results is required as map only returns a map object and does not return any list. Map is faster in case of calling an already defined function (as no lambda is required)."
      ],
      "metadata": {
        "id": "EcJLQUknWNGo"
      }
    }
  ]
}