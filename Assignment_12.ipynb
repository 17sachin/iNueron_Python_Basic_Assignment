{
  "nbformat": 4,
  "nbformat_minor": 0,
  "metadata": {
    "colab": {
      "name": "Assignment_12.ipynb",
      "provenance": [],
      "collapsed_sections": [],
      "authorship_tag": "ABX9TyOeHBOmBNOofVepMu088DuM",
      "include_colab_link": true
    },
    "kernelspec": {
      "name": "python3",
      "display_name": "Python 3"
    },
    "language_info": {
      "name": "python"
    }
  },
  "cells": [
    {
      "cell_type": "markdown",
      "metadata": {
        "id": "view-in-github",
        "colab_type": "text"
      },
      "source": [
        "<a href=\"https://colab.research.google.com/github/17sachin/iNueron_Python_Basic_Assignment/blob/main/Assignment_12.ipynb\" target=\"_parent\"><img src=\"https://colab.research.google.com/assets/colab-badge.svg\" alt=\"Open In Colab\"/></a>"
      ]
    },
    {
      "cell_type": "markdown",
      "source": [
        "1.In what modes should the PdfFileReader() and PdfFileWriter() File objects will be opened?\n",
        "\n",
        "PdfFileReader() needs to be opened in read-binary mode by passing 'rb' as the second argument to open(). Likewise, the File object passed to PyPDF2. PdfFileWriter() needs to be opened in write-binary mode with 'wb'."
      ],
      "metadata": {
        "id": "fc8lmcuSRKck"
      }
    },
    {
      "cell_type": "markdown",
      "source": [
        "2.From a PdfFileReader object, how do you get a Page object for page 5?\n",
        "\n",
        "To extract text from a page, you need to get a Page object, which represents a single page of a PDF, from a PdfFileReader object. You can get a Page object by calling the getPage() method on a PdfFileReader object and passing it the page number of the page."
      ],
      "metadata": {
        "id": "WPSeQjbWRWd-"
      }
    },
    {
      "cell_type": "markdown",
      "source": [
        "3.What PdfFileReader variable stores the number of pages in the PDF document?\n",
        "\n",
        "The total number of pages in the document is stored in the numPages attribute of a PdfFileReader object."
      ],
      "metadata": {
        "id": "AarVy57JRlKZ"
      }
    },
    {
      "cell_type": "markdown",
      "source": [
        "4.If a PdfFileReader object’s PDF is encrypted with the password swordfish, what must you do before you can obtain Page objects from it?\n",
        "\n",
        "We'll be using the PyPDF2 module to encrypt and decrypt our PDF files. PyPDF2 is a Python library built as a PDF toolkit.\n",
        "\n",
        "Encrypt and Decrypt PDF using PyPDF2\n",
        "\n",
        "Extracting document information (title, author, …)\n",
        "\n",
        "Splitting and Merging documents.\n",
        "\n",
        "Cropping pages.\n",
        "\n",
        "Encrypting and decrypting PDF files."
      ],
      "metadata": {
        "id": "ImmIlpxIRu8S"
      }
    },
    {
      "cell_type": "markdown",
      "source": [
        "5.What methods do you use to rotate a page?\n",
        "\n",
        "Rotate all or a selection of pages in your document by holding the shift key and clicking on the pages to rotate. Or, select a range in the secondary toolbar “Enter Page Range.”\n",
        "\n",
        "This method involves using shortcuts to rotate a PDF. While viewing a PDF document, press the \"Ctrl+Shift+L\" keys or \"Ctrl+Shift+R\" keys to rotate the current page to the left or right."
      ],
      "metadata": {
        "id": "0lk77uWxSDaB"
      }
    },
    {
      "cell_type": "markdown",
      "source": [
        "6.What is the difference between a Run object and a Paragraph object?\n",
        "\n",
        "Each Paragraph object also has a runs attribute that is a list of Run objects. Run objects also have a text attribute, containing just the text in that particular run. Let's look at the text attributes in the second Paragraph object, 'A plain paragraph with some bold and some italic' ."
      ],
      "metadata": {
        "id": "TzBip1bySQIE"
      }
    },
    {
      "cell_type": "markdown",
      "source": [
        "7.How do you obtain a list of Paragraph objects for a Document object that’s stored in a variable named doc?\n",
        "\n",
        "Step 1: Import all libraries.\n",
        "\n",
        "Step 2: Convert PDF file to txt format and read data.\n",
        "\n",
        "Step 3: Use “. ...\n",
        "\n",
        "Step 4: Save list of extracted keywords in a DataFrame.\n",
        "\n",
        "Step 5 : Apply concept of TF-IDF for calculating weights of each keyword.\n",
        "\n"
      ],
      "metadata": {
        "id": "slPYU6zLSaM6"
      }
    },
    {
      "cell_type": "markdown",
      "source": [
        "8.What type of object has bold, underline, italic, strike, and outline variables?"
      ],
      "metadata": {
        "id": "SEP1UOotSCDB"
      }
    },
    {
      "cell_type": "markdown",
      "source": [
        "9.What is the difference between False, True, and None for the bold variable?\n",
        "\n",
        "True / False are used where the field takes a boolean value. None is used where the field takes an Optional[List] \n",
        "\n",
        "The true or false variable, also known as boolean, is a type of variable that only has two possible values, true or false. These variables enable you to make decisions, and thus have a better control over your flow."
      ],
      "metadata": {
        "id": "FbMFfAi4S-V5"
      }
    },
    {
      "cell_type": "markdown",
      "source": [
        "10.How do you create a Document object for a new Word document?\n",
        "\n",
        "Open the first document.\n",
        "\n",
        "Place the cursor where you want the second document to be inserted.\n",
        "\n",
        "From the Insert tab, Text group, click on the down arrow next to Object and choose Text from file.\n",
        "\n",
        "Select the file to be inserted.\n",
        "\n",
        "Click on Insert"
      ],
      "metadata": {
        "id": "9BOJnKFbTM2h"
      }
    },
    {
      "cell_type": "markdown",
      "source": [
        "11.How do you add a paragraph with the text 'Hello, there!' to a Document object stored in a variable named doc?"
      ],
      "metadata": {
        "id": "uz8msJo5TYJJ"
      }
    },
    {
      "cell_type": "markdown",
      "source": [
        "12.What integers represent the levels of headings available in Word documents?\n",
        "\n",
        "Headings so that top-level headings (Heading 1) are numbered 1, 2, 3, for example, and second-level headings (Heading 2) are numbered 1.1, 1.2, 1.3. Open your document that uses built-in heading styles, and select the first Heading 1. On the Home tab, in the Paragraph group, choose Multilevel List."
      ],
      "metadata": {
        "id": "yT--XYDUUF5C"
      }
    }
  ]
}