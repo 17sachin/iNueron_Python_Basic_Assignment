{
  "nbformat": 4,
  "nbformat_minor": 0,
  "metadata": {
    "colab": {
      "name": "Assignment_5.ipynb",
      "provenance": [],
      "collapsed_sections": [],
      "authorship_tag": "ABX9TyMBXHWnXVDQFGx5xxwFIYTW",
      "include_colab_link": true
    },
    "kernelspec": {
      "name": "python3",
      "display_name": "Python 3"
    },
    "language_info": {
      "name": "python"
    }
  },
  "cells": [
    {
      "cell_type": "markdown",
      "metadata": {
        "id": "view-in-github",
        "colab_type": "text"
      },
      "source": [
        "<a href=\"https://colab.research.google.com/github/17sachin/iNueron_Python_Basic_Assignment/blob/main/Assignment_5.ipynb\" target=\"_parent\"><img src=\"https://colab.research.google.com/assets/colab-badge.svg\" alt=\"Open In Colab\"/></a>"
      ]
    },
    {
      "cell_type": "markdown",
      "source": [
        "1.What does an empty dictionary's code look like?\n",
        "\n",
        "Ans:Two curly brackest - {}\n"
      ],
      "metadata": {
        "id": "Ll0hqtOWLHap"
      }
    },
    {
      "cell_type": "markdown",
      "source": [
        "2.What is the value of a dictionary value with the key 'foo' and the value 42?\n",
        "\n",
        "Ans:\n",
        "{'foo':42}"
      ],
      "metadata": {
        "id": "WCx7Q-w-Lc29"
      }
    },
    {
      "cell_type": "markdown",
      "source": [
        "3.What is the most significant distinction between a dictionary and a list?\n",
        "\n",
        "Ans:\n",
        "Items stored in dictionary are unordered , while the items in the list are ordered."
      ],
      "metadata": {
        "id": "o6k91VFJMEEv"
      }
    },
    {
      "cell_type": "markdown",
      "source": [
        "4.What happens if you try to access spam['foo'] if spam is {'bar': 100}?\n",
        "\n",
        "Ans:\n",
        "It gives a KeyError."
      ],
      "metadata": {
        "id": "wCIRJRWZMXJv"
      }
    },
    {
      "cell_type": "markdown",
      "source": [
        "5.If a dictionary is stored in spam, what is the difference between the expressions 'cat' in spam and 'cat' in spam.keys()?\n",
        "\n",
        "Ans:\n",
        "\n",
        "There is no such difference.\n",
        "\n",
        "IN opeartor checks whether a value exists as a key in the dictionary."
      ],
      "metadata": {
        "id": "UAD0mSmSM4qn"
      }
    },
    {
      "cell_type": "markdown",
      "source": [
        "6.If a dictionary is stored in spam, what is the difference between the expressions 'cat' in spam and 'cat' in spam.values()?\n",
        "\n",
        "Ans:\n",
        "\n",
        "'cat' in spam checks whether there is a 'cat' key in the dictionary, while 'cat' in spam.values() checks whether there is a value 'cat' for one of the keys in spam."
      ],
      "metadata": {
        "id": "tq-SW0vvNevA"
      }
    },
    {
      "cell_type": "markdown",
      "source": [
        "7.What is a shortcut for the following code?\n",
        "if 'color' not in spam:\n",
        "spam['color'] = 'black'\n",
        "\n",
        "Ans:\n",
        "spam.setdefault('color', 'black')"
      ],
      "metadata": {
        "id": "6UToYxM6N_I-"
      }
    },
    {
      "cell_type": "markdown",
      "source": [
        "8.How do you 'pretty print' dictionary values using which module and function?\n",
        "\n",
        "Ans:\n",
        "pprint.pprint()"
      ],
      "metadata": {
        "id": "smLlsx3XOcMf"
      }
    }
  ]
}