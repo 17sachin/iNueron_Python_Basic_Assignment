{
  "nbformat": 4,
  "nbformat_minor": 0,
  "metadata": {
    "colab": {
      "name": "Assignment_2.ipynb",
      "provenance": [],
      "collapsed_sections": [],
      "authorship_tag": "ABX9TyPzOXMywXSrvjecpZqnNcKV",
      "include_colab_link": true
    },
    "kernelspec": {
      "name": "python3",
      "display_name": "Python 3"
    },
    "language_info": {
      "name": "python"
    }
  },
  "cells": [
    {
      "cell_type": "markdown",
      "metadata": {
        "id": "view-in-github",
        "colab_type": "text"
      },
      "source": [
        "<a href=\"https://colab.research.google.com/github/17sachin/iNueron_Python_Basic_Assignment/blob/main/Assignment_2.ipynb\" target=\"_parent\"><img src=\"https://colab.research.google.com/assets/colab-badge.svg\" alt=\"Open In Colab\"/></a>"
      ]
    },
    {
      "cell_type": "markdown",
      "source": [
        "1.What are the two values of the Boolean data type? How do you write them?\n",
        "\n",
        "Ans: Two values of Boolean data type are\n",
        "1.True\n",
        "2.False\n",
        "They can be represeneted as True=1 and False=0"
      ],
      "metadata": {
        "id": "JJBu9SztezQo"
      }
    },
    {
      "cell_type": "markdown",
      "source": [
        "2.What are the three different types of Boolean operators?\n",
        "\n",
        "Ans:There are 3 different boolean opearators which are use to compare values\n",
        "\n",
        "1.and\n",
        "\n",
        "2.or\n",
        "\n",
        "3.not"
      ],
      "metadata": {
        "id": "a8iQTmhvewJB"
      }
    },
    {
      "cell_type": "markdown",
      "source": [
        "3.Make a list of each Boolean operator's truth tables (i.e. every possible combination of Boolean values for the operator and what it evaluate ).\n",
        "\n",
        "Ans:\n",
        "AND operator\n",
        "\n",
        "T\tT\tT\n",
        "\n",
        "T\tF\tF\n",
        "\n",
        "F\tT\tF\n",
        "\n",
        "F\tF\tF\n",
        "\n",
        "OR operator\n",
        "\n",
        "T\tT\tT\n",
        "\n",
        "T\tF\tT\n",
        "\n",
        "F\tT\tT\n",
        "\n",
        "F\tF\tF\n",
        "\n",
        "NOT operator\n",
        "\n",
        "T\tT\tF\n",
        "\n",
        "T\tF\tT\n",
        "\n",
        "F\tT\tT\n",
        "\n",
        "F\tF\tT\n",
        "\n"
      ],
      "metadata": {
        "id": "5UPCkSlOeuL1"
      }
    },
    {
      "cell_type": "markdown",
      "source": [
        "4.What are the values of the following expressions?"
      ],
      "metadata": {
        "id": "fpMnLg0QmMMD"
      }
    },
    {
      "cell_type": "code",
      "source": [
        "\n",
        "\n",
        "(5 > 4) and (3 == 5)"
      ],
      "metadata": {
        "id": "04yqyQesf7e3",
        "colab": {
          "base_uri": "https://localhost:8080/"
        },
        "outputId": "6bd713a9-3ce7-456a-9128-73d48e7a7e62"
      },
      "execution_count": 1,
      "outputs": [
        {
          "output_type": "stream",
          "name": "stdout",
          "text": [
            "Object `expressions` not found.\n"
          ]
        },
        {
          "output_type": "execute_result",
          "data": {
            "text/plain": [
              "False"
            ]
          },
          "metadata": {},
          "execution_count": 1
        }
      ]
    },
    {
      "cell_type": "code",
      "source": [
        "not (5 > 4)"
      ],
      "metadata": {
        "colab": {
          "base_uri": "https://localhost:8080/"
        },
        "id": "O2QaLtdfbM83",
        "outputId": "f866905c-b00b-4861-c348-e3b310b20785"
      },
      "execution_count": 2,
      "outputs": [
        {
          "output_type": "execute_result",
          "data": {
            "text/plain": [
              "False"
            ]
          },
          "metadata": {},
          "execution_count": 2
        }
      ]
    },
    {
      "cell_type": "code",
      "source": [
        "(5 > 4) or (3 == 5)"
      ],
      "metadata": {
        "colab": {
          "base_uri": "https://localhost:8080/"
        },
        "id": "fc9CSt4ibU46",
        "outputId": "796d633a-6cfe-4786-efd2-696ab1c47d7d"
      },
      "execution_count": 3,
      "outputs": [
        {
          "output_type": "execute_result",
          "data": {
            "text/plain": [
              "True"
            ]
          },
          "metadata": {},
          "execution_count": 3
        }
      ]
    },
    {
      "cell_type": "code",
      "source": [
        "not ((5 > 4) or (3 == 5))"
      ],
      "metadata": {
        "colab": {
          "base_uri": "https://localhost:8080/"
        },
        "id": "QQMAOiNobaaa",
        "outputId": "9358f711-7294-44a2-b8ee-d18377b4c853"
      },
      "execution_count": 4,
      "outputs": [
        {
          "output_type": "execute_result",
          "data": {
            "text/plain": [
              "False"
            ]
          },
          "metadata": {},
          "execution_count": 4
        }
      ]
    },
    {
      "cell_type": "code",
      "source": [
        "(True and True) and (True == False)"
      ],
      "metadata": {
        "colab": {
          "base_uri": "https://localhost:8080/"
        },
        "id": "4y6NMtvDbh4I",
        "outputId": "dcf6e7ba-34a1-4609-b798-9a4b0d8e8e3a"
      },
      "execution_count": 5,
      "outputs": [
        {
          "output_type": "execute_result",
          "data": {
            "text/plain": [
              "False"
            ]
          },
          "metadata": {},
          "execution_count": 5
        }
      ]
    },
    {
      "cell_type": "code",
      "source": [
        "(not False) or (not True)"
      ],
      "metadata": {
        "colab": {
          "base_uri": "https://localhost:8080/"
        },
        "id": "hzK3nQDDbrxD",
        "outputId": "5237367f-02a3-4bf8-8553-c6cc506519ec"
      },
      "execution_count": 6,
      "outputs": [
        {
          "output_type": "execute_result",
          "data": {
            "text/plain": [
              "True"
            ]
          },
          "metadata": {},
          "execution_count": 6
        }
      ]
    },
    {
      "cell_type": "markdown",
      "source": [
        "5.What are the six comparison operators?\n",
        "\n",
        "Ans:\n",
        "  There are six main comparison operators:\n",
        "\n",
        "    1. equal to \n",
        "\n",
        "    2.not equal to \n",
        "\n",
        "    3.greater than \n",
        "\n",
        "    4.greater than or equal to \n",
        "\n",
        "    5.less than  \n",
        "\n",
        "    6.less than or equal to"
      ],
      "metadata": {
        "id": "_XtnshQib_TF"
      }
    },
    {
      "cell_type": "markdown",
      "source": [
        "6.How do you tell the difference between the equal to and assignment operators?Describe a condition and when you would use one.\n",
        "\n",
        "Ans:\n",
        "\n",
        "The “=” is an assignment operator which is used to assign the value on the right to the variable on the left. \n",
        "\n",
        "a = 10;\n",
        "b = 20;\n",
        "\n",
        "\n",
        "The '==' operator checks whether the two given operands are equal or not. If so, it returns true.\n",
        "\n",
        "5==5\n",
        "\n",
        "This will return true.\n",
        "\n",
        "\n",
        "Condition to show:\n"
      ],
      "metadata": {
        "id": "iPK86zw9cVVq"
      }
    },
    {
      "cell_type": "code",
      "source": [
        "a=10 \n",
        "b=20\n",
        "\n",
        "if a==b: \n",
        "  print(\"a is equal to b\")\n",
        "else:\n",
        "   print(\"a is not equal to b\")"
      ],
      "metadata": {
        "colab": {
          "base_uri": "https://localhost:8080/"
        },
        "id": "Gov3kQfTe0jJ",
        "outputId": "ef550822-697d-4e12-9543-7e05c720bb0b"
      },
      "execution_count": 8,
      "outputs": [
        {
          "output_type": "stream",
          "name": "stdout",
          "text": [
            "a is not equal to b\n"
          ]
        }
      ]
    },
    {
      "cell_type": "markdown",
      "source": [
        "7.Identify the three blocks in this code:"
      ],
      "metadata": {
        "id": "rjqfW4nAmTNz"
      }
    },
    {
      "cell_type": "code",
      "source": [
        "\n",
        "\n",
        "spam=0\n",
        "if spam==10: #block 1\n",
        "  print (\"eggs\")\n",
        "if spam>5:   #block 2\n",
        "  print(\"bacon\")\n",
        "else:        #block 3\n",
        "  print(\"ham\")\n",
        "  print(\"spam\")\n",
        "  print(\"spam\")"
      ],
      "metadata": {
        "colab": {
          "base_uri": "https://localhost:8080/"
        },
        "id": "_fe6QFGdfIut",
        "outputId": "14810ef5-82ec-4b53-f2ea-1772bbbafaea"
      },
      "execution_count": 27,
      "outputs": [
        {
          "output_type": "stream",
          "name": "stdout",
          "text": [
            "ham\n",
            "spam\n",
            "spam\n"
          ]
        }
      ]
    },
    {
      "cell_type": "markdown",
      "source": [
        "8. Write code that prints Hello if 1 is stored in spam, prints Howdy if 2 is stored in spam, and prints Greetings! if anything else is stored in spam."
      ],
      "metadata": {
        "id": "0UALh3C_gn9h"
      }
    },
    {
      "cell_type": "code",
      "source": [
        "spam=int(input())\n",
        "\n",
        "if spam == 1:\n",
        "  print(\"Hello\")\n",
        "elif spam == 2 :\n",
        "  print(\"Howdy\")\n",
        "else:\n",
        "  print(\"Greetings!\")"
      ],
      "metadata": {
        "colab": {
          "base_uri": "https://localhost:8080/"
        },
        "id": "3IFhzsprgsjP",
        "outputId": "ae3285c2-e73c-444a-e70c-5651fef1caf6"
      },
      "execution_count": 14,
      "outputs": [
        {
          "output_type": "stream",
          "name": "stdout",
          "text": [
            "2\n",
            "Howdy\n"
          ]
        }
      ]
    },
    {
      "cell_type": "markdown",
      "source": [
        "9.If your programme is stuck in an endless loop, what keys you’ll press?\n",
        "\n",
        "Ans:\n",
        "\n",
        "Ctrl + C"
      ],
      "metadata": {
        "id": "CvW5F6CChox-"
      }
    },
    {
      "cell_type": "markdown",
      "source": [
        "10.How can you tell the difference between break and continue?\n",
        "\n",
        "Ans:\n",
        "\n",
        "Break statement terminates the smallest enclosing loop.\n",
        "\n",
        "Continue statement skips the rest of the loop statement and starts the next iteration of the loop to take place.\n",
        "\n",
        "Below are examples to showcase the difference"
      ],
      "metadata": {
        "id": "wPd6W4kyh7LS"
      }
    },
    {
      "cell_type": "code",
      "source": [
        "#Break\n",
        "\n",
        "list=[1,2,3,4,5]\n",
        "\n",
        "for i in list:\n",
        "  if i == 3:\n",
        "    break\n",
        "    print(\"Hello\")\n",
        "  else:\n",
        "    print(\"Have a good day\")"
      ],
      "metadata": {
        "colab": {
          "base_uri": "https://localhost:8080/"
        },
        "id": "RYn2aSRkikx9",
        "outputId": "b81158e9-a5a6-4180-86f7-72ca7340b35a"
      },
      "execution_count": 16,
      "outputs": [
        {
          "output_type": "stream",
          "name": "stdout",
          "text": [
            "Have a good day\n",
            "Have a good day\n"
          ]
        }
      ]
    },
    {
      "cell_type": "code",
      "source": [
        "#Continue\n",
        "\n",
        "list=[1,2,3,4,5]\n",
        "\n",
        "for i in list:\n",
        "  if i == 3:\n",
        "    print(\"Hello\")\n",
        "    continue\n",
        "  else:\n",
        "    print(\"Have a good day\")"
      ],
      "metadata": {
        "colab": {
          "base_uri": "https://localhost:8080/"
        },
        "id": "sxIUHFhyi7LL",
        "outputId": "d214a4ba-3548-45a5-f4d9-95dc2dd758aa"
      },
      "execution_count": 18,
      "outputs": [
        {
          "output_type": "stream",
          "name": "stdout",
          "text": [
            "Have a good day\n",
            "Have a good day\n",
            "Hello\n",
            "Have a good day\n",
            "Have a good day\n"
          ]
        }
      ]
    },
    {
      "cell_type": "markdown",
      "source": [
        "11.In a for loop, what is the difference between range(10), range(0, 10), and range(0, 10, 1)?\n",
        "\n",
        "Ans:All gives the same result\n",
        "\n",
        "Code to showcase these:"
      ],
      "metadata": {
        "id": "pZGU3gL5j0L4"
      }
    },
    {
      "cell_type": "code",
      "source": [
        "for i in range(10):\n",
        "  print(i)"
      ],
      "metadata": {
        "colab": {
          "base_uri": "https://localhost:8080/"
        },
        "id": "MEjALa68kQ-3",
        "outputId": "07bdd87c-a9f3-4fbf-85d8-a94e9bbe4db8"
      },
      "execution_count": 19,
      "outputs": [
        {
          "output_type": "stream",
          "name": "stdout",
          "text": [
            "0\n",
            "1\n",
            "2\n",
            "3\n",
            "4\n",
            "5\n",
            "6\n",
            "7\n",
            "8\n",
            "9\n"
          ]
        }
      ]
    },
    {
      "cell_type": "code",
      "source": [
        "for i in range(0,10):\n",
        "  print(i)"
      ],
      "metadata": {
        "colab": {
          "base_uri": "https://localhost:8080/"
        },
        "id": "yv1HCCG3kYP3",
        "outputId": "7be1a3dd-d431-4bf3-8e9c-1606ff40b452"
      },
      "execution_count": 20,
      "outputs": [
        {
          "output_type": "stream",
          "name": "stdout",
          "text": [
            "0\n",
            "1\n",
            "2\n",
            "3\n",
            "4\n",
            "5\n",
            "6\n",
            "7\n",
            "8\n",
            "9\n"
          ]
        }
      ]
    },
    {
      "cell_type": "code",
      "source": [
        "for i in range (0,10,1):\n",
        "  print(i)"
      ],
      "metadata": {
        "colab": {
          "base_uri": "https://localhost:8080/"
        },
        "id": "GmZP-KFFkflG",
        "outputId": "51748eb0-c806-43bf-96d0-86ec7841e2fa"
      },
      "execution_count": 21,
      "outputs": [
        {
          "output_type": "stream",
          "name": "stdout",
          "text": [
            "0\n",
            "1\n",
            "2\n",
            "3\n",
            "4\n",
            "5\n",
            "6\n",
            "7\n",
            "8\n",
            "9\n"
          ]
        }
      ]
    },
    {
      "cell_type": "markdown",
      "source": [
        "12.Write a short program that prints the numbers 1 to 10 using a for loop. Then write an equivalent program that prints the numbers 1 to 10 using a while loop."
      ],
      "metadata": {
        "id": "kHVJtc_Uk0ln"
      }
    },
    {
      "cell_type": "code",
      "source": [
        "#for loop\n",
        "for i in range(1,11):\n",
        "  print(i)"
      ],
      "metadata": {
        "colab": {
          "base_uri": "https://localhost:8080/"
        },
        "id": "yPoILXUxk-2N",
        "outputId": "9ee6c059-a176-4793-924d-8bd89c30312c"
      },
      "execution_count": 25,
      "outputs": [
        {
          "output_type": "stream",
          "name": "stdout",
          "text": [
            "1\n",
            "2\n",
            "3\n",
            "4\n",
            "5\n",
            "6\n",
            "7\n",
            "8\n",
            "9\n",
            "10\n"
          ]
        }
      ]
    },
    {
      "cell_type": "code",
      "source": [
        "#while loop\n",
        "i=1\n",
        "\n",
        "while(i<=10):\n",
        "  print(i)\n",
        "  i+=1"
      ],
      "metadata": {
        "colab": {
          "base_uri": "https://localhost:8080/"
        },
        "id": "RA3dJ7RplFLo",
        "outputId": "e165e929-3f35-4612-9148-cf8d2ecedb9f"
      },
      "execution_count": 26,
      "outputs": [
        {
          "output_type": "stream",
          "name": "stdout",
          "text": [
            "1\n",
            "2\n",
            "3\n",
            "4\n",
            "5\n",
            "6\n",
            "7\n",
            "8\n",
            "9\n",
            "10\n"
          ]
        }
      ]
    },
    {
      "cell_type": "markdown",
      "source": [
        "13.If you had a function named bacon() inside a module named spam, how would you call it after importing spam?\n",
        "\n",
        "Ans: spam.bacon()"
      ],
      "metadata": {
        "id": "ZX6rilrRlrnt"
      }
    }
  ]
}