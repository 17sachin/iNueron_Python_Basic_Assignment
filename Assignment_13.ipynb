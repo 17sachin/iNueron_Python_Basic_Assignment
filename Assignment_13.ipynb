{
  "nbformat": 4,
  "nbformat_minor": 0,
  "metadata": {
    "colab": {
      "name": "Assignment_13.ipynb",
      "provenance": [],
      "collapsed_sections": [],
      "authorship_tag": "ABX9TyNYhy1Kp7YMEibx70Hcd6Pp",
      "include_colab_link": true
    },
    "kernelspec": {
      "name": "python3",
      "display_name": "Python 3"
    },
    "language_info": {
      "name": "python"
    }
  },
  "cells": [
    {
      "cell_type": "markdown",
      "metadata": {
        "id": "view-in-github",
        "colab_type": "text"
      },
      "source": [
        "<a href=\"https://colab.research.google.com/github/17sachin/iNueron_Python_Basic_Assignment/blob/main/Assignment_13.ipynb\" target=\"_parent\"><img src=\"https://colab.research.google.com/assets/colab-badge.svg\" alt=\"Open In Colab\"/></a>"
      ]
    },
    {
      "cell_type": "markdown",
      "source": [
        "1.What advantages do Excel spreadsheets have over CSV spreadsheets?\n",
        "\n",
        "Ans:\n",
        "CSV is a plain text format with a series of values separated by commas whereas Excel is a binary file that holds information about all the worksheets in a workbook. CSV file can't perform operations on data while Excel can perform operations on the data."
      ],
      "metadata": {
        "id": "Wx6uJfncndwe"
      }
    },
    {
      "cell_type": "markdown",
      "source": [
        "2.What do you pass to csv.reader() and csv.writer() to create reader and writer objects?\n",
        "\n",
        "Ans:\n",
        "The dialect parameter is passed."
      ],
      "metadata": {
        "id": "FkQ52YwXn-1K"
      }
    },
    {
      "cell_type": "markdown",
      "source": [
        "3.What modes do File objects for reader and writer objects need to be opened in?\n",
        "\n",
        "Ans:\n",
        "\n",
        "'r' - Open a file for reading. \n",
        "\n",
        "'w' - Open a file for writing.\n",
        "\n"
      ],
      "metadata": {
        "id": "nmMIzUtspPV3"
      }
    },
    {
      "cell_type": "markdown",
      "source": [
        "4.What method takes a list argument and writes it to a CSV file?\n",
        "\n",
        "Ans:\n",
        "The csv.writer writerow method takes an iterable as an argument.\n"
      ],
      "metadata": {
        "id": "k2-yg9j4p4mE"
      }
    },
    {
      "cell_type": "markdown",
      "source": [
        "5.What do the keyword arguments delimiter and line terminator do?\n",
        "\n",
        "Ans:\n",
        "The delimiter is the character that appears between cells on a row. By default, the delimiter for a CSV file is a comma. \n",
        "\n",
        "The line terminator is the character that comes at the end of a row. By default, the line terminator is a newline\n"
      ],
      "metadata": {
        "id": "XY8lT8HgqQy8"
      }
    },
    {
      "cell_type": "markdown",
      "source": [
        "6.What function takes a string of JSON data and returns a Python data structure?\n",
        "\n",
        "Ans:\n",
        "loads() method return Python data structure of JSON string or data.\n",
        "\n",
        "\n"
      ],
      "metadata": {
        "id": "XQoNinOfqqM8"
      }
    },
    {
      "cell_type": "markdown",
      "source": [
        "7.What function takes a Python data structure and returns a string of JSON data?\n",
        "\n",
        "Ans:\n",
        "dump() function is used to convert the Python objects into their respective JSON object.\n"
      ],
      "metadata": {
        "id": "VqKp_QZmrFTk"
      }
    },
    {
      "cell_type": "markdown",
      "source": [
        ""
      ],
      "metadata": {
        "id": "S2mwjy1Ep2zs"
      }
    }
  ]
}