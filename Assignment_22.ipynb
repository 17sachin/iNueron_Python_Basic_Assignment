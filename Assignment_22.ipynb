{
  "nbformat": 4,
  "nbformat_minor": 0,
  "metadata": {
    "colab": {
      "name": "Assignment_22.ipynb",
      "provenance": [],
      "collapsed_sections": [],
      "authorship_tag": "ABX9TyMCT5cCzPUAxggHK7pSSJpC",
      "include_colab_link": true
    },
    "kernelspec": {
      "name": "python3",
      "display_name": "Python 3"
    },
    "language_info": {
      "name": "python"
    }
  },
  "cells": [
    {
      "cell_type": "markdown",
      "metadata": {
        "id": "view-in-github",
        "colab_type": "text"
      },
      "source": [
        "<a href=\"https://colab.research.google.com/github/17sachin/iNueron_Python_Basic_Assignment/blob/main/Assignment_22.ipynb\" target=\"_parent\"><img src=\"https://colab.research.google.com/assets/colab-badge.svg\" alt=\"Open In Colab\"/></a>"
      ]
    },
    {
      "cell_type": "markdown",
      "source": [
        "1.What is the result of the code, and explain?"
      ],
      "metadata": {
        "id": "s9H9cgrActcX"
      }
    },
    {
      "cell_type": "code",
      "source": [
        "X = 'iNeuron'\n",
        "def func():\n",
        "  print(X)\n",
        "\n",
        "func()"
      ],
      "metadata": {
        "colab": {
          "base_uri": "https://localhost:8080/"
        },
        "id": "Ls-ZnjXfczQd",
        "outputId": "a3528287-40c6-4afe-e1b3-fcbf265032f4"
      },
      "execution_count": 1,
      "outputs": [
        {
          "output_type": "stream",
          "name": "stdout",
          "text": [
            "iNeuron\n"
          ]
        }
      ]
    },
    {
      "cell_type": "markdown",
      "source": [
        "Here we have defined a variable X and assigned a value 'iNeuron'.\n",
        "DEfined a function named func and priinting the X .\n",
        "Calling the function will gives us iNeuron as output."
      ],
      "metadata": {
        "id": "ZsLzwXf9dQlc"
      }
    },
    {
      "cell_type": "markdown",
      "source": [
        "2.What is the result of the code, and explain?"
      ],
      "metadata": {
        "id": "td-5lkJediLE"
      }
    },
    {
      "cell_type": "code",
      "source": [
        "X ='iNeuron'\n",
        "def func():\n",
        "  X ='NI!'\n",
        "\n",
        "func()\n",
        "print(X)"
      ],
      "metadata": {
        "colab": {
          "base_uri": "https://localhost:8080/"
        },
        "id": "mCIWX0_BdnPY",
        "outputId": "b3ea30d3-48f3-4b62-aa19-932f7f379fa5"
      },
      "execution_count": 5,
      "outputs": [
        {
          "output_type": "stream",
          "name": "stdout",
          "text": [
            "iNeuron\n"
          ]
        }
      ]
    },
    {
      "cell_type": "markdown",
      "source": [
        "3.What does this code print, and why?"
      ],
      "metadata": {
        "id": "EAZunqeaeGH0"
      }
    },
    {
      "cell_type": "code",
      "source": [
        "X ='iNeuron'\n",
        "def func():\n",
        "  X ='NI!'\n",
        "  print(X)\n",
        "\n",
        "func()\n",
        "print(X)"
      ],
      "metadata": {
        "colab": {
          "base_uri": "https://localhost:8080/"
        },
        "id": "4rV1nSkjeInE",
        "outputId": "9634f6b9-ff0b-451f-fb8b-2c864ad051f7"
      },
      "execution_count": 6,
      "outputs": [
        {
          "output_type": "stream",
          "name": "stdout",
          "text": [
            "NI!\n",
            "iNeuron\n"
          ]
        }
      ]
    },
    {
      "cell_type": "markdown",
      "source": [
        "4.What output does this code produce? Why?\n",
        "\n"
      ],
      "metadata": {
        "id": "xsHw_35KeYxU"
      }
    },
    {
      "cell_type": "code",
      "source": [
        "X ='iNeuron'\n",
        "def func():\n",
        "  global X\n",
        "  X ='NI!'\n",
        "  \n",
        "func()\n",
        "print(X)"
      ],
      "metadata": {
        "colab": {
          "base_uri": "https://localhost:8080/"
        },
        "id": "43tnhr-uef7k",
        "outputId": "bc6ebf36-95aa-4e16-d81d-912cdb51813c"
      },
      "execution_count": 7,
      "outputs": [
        {
          "output_type": "stream",
          "name": "stdout",
          "text": [
            "NI!\n"
          ]
        }
      ]
    },
    {
      "cell_type": "markdown",
      "source": [
        "5.What about this code—what’s the output, and why?"
      ],
      "metadata": {
        "id": "IE2UKPDaessm"
      }
    },
    {
      "cell_type": "code",
      "source": [
        "X ='iNeuron'\n",
        "def func():\n",
        "  X ='NI'\n",
        "def nested():\n",
        "  print(X)\n",
        "  nested()\n",
        "\n",
        "func()\n",
        "X"
      ],
      "metadata": {
        "colab": {
          "base_uri": "https://localhost:8080/",
          "height": 35
        },
        "id": "wafMYSNieuxE",
        "outputId": "4c0ef4f0-52dd-4005-e4b4-37e52c397bd4"
      },
      "execution_count": 8,
      "outputs": [
        {
          "output_type": "execute_result",
          "data": {
            "application/vnd.google.colaboratory.intrinsic+json": {
              "type": "string"
            },
            "text/plain": [
              "'iNeuron'"
            ]
          },
          "metadata": {},
          "execution_count": 8
        }
      ]
    },
    {
      "cell_type": "markdown",
      "source": [
        "6.How about this code: what is its output in Python 3, and explain?"
      ],
      "metadata": {
        "id": "lRPB6deTfFpM"
      }
    },
    {
      "cell_type": "code",
      "source": [
        "def func():\n",
        "  X ='NI'\n",
        "def nested():\n",
        "  X = 'Spam'\n",
        "  nested()\n",
        "print(X)\n",
        "\n",
        "func()"
      ],
      "metadata": {
        "colab": {
          "base_uri": "https://localhost:8080/"
        },
        "id": "nntxy-PzfVHc",
        "outputId": "0cae98b9-0079-437a-803c-82904e335314"
      },
      "execution_count": 13,
      "outputs": [
        {
          "output_type": "stream",
          "name": "stdout",
          "text": [
            "iNeuron\n"
          ]
        }
      ]
    }
  ]
}