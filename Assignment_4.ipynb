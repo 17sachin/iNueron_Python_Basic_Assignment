{
  "nbformat": 4,
  "nbformat_minor": 0,
  "metadata": {
    "colab": {
      "name": "Assignment_4.ipynb",
      "provenance": [],
      "collapsed_sections": [],
      "authorship_tag": "ABX9TyMRaRon04puz+lPHIXnTfSK",
      "include_colab_link": true
    },
    "kernelspec": {
      "name": "python3",
      "display_name": "Python 3"
    },
    "language_info": {
      "name": "python"
    }
  },
  "cells": [
    {
      "cell_type": "markdown",
      "metadata": {
        "id": "view-in-github",
        "colab_type": "text"
      },
      "source": [
        "<a href=\"https://colab.research.google.com/github/17sachin/iNueron_Python_Basic_Assignment/blob/main/Assignment_4.ipynb\" target=\"_parent\"><img src=\"https://colab.research.google.com/assets/colab-badge.svg\" alt=\"Open In Colab\"/></a>"
      ]
    },
    {
      "cell_type": "markdown",
      "source": [
        "1.What exactly is []?\n",
        "\n",
        "Ans:\n",
        "Its an empty list."
      ],
      "metadata": {
        "id": "r4I3sdmn5kNL"
      }
    },
    {
      "cell_type": "markdown",
      "source": [
        "2.In a list of values stored in a variable called spam, how would you assign the value \"Hello\"  as the third value? (Assume [2, 4, 6, 8, 10] are in spam.)\n",
        "\n",
        "Ans:\n"
      ],
      "metadata": {
        "id": "nwfPifgG51-X"
      }
    },
    {
      "cell_type": "code",
      "source": [
        "spam=[2,4,6,8,10]\n",
        "\n",
        "spam[2]='Hello'\n",
        "\n",
        "spam\n",
        "\n"
      ],
      "metadata": {
        "colab": {
          "base_uri": "https://localhost:8080/"
        },
        "id": "grp0tOCl6M8R",
        "outputId": "d90f04c5-b9ba-4153-b2e7-95bcf0849d1d"
      },
      "execution_count": 3,
      "outputs": [
        {
          "output_type": "execute_result",
          "data": {
            "text/plain": [
              "[2, 4, 'Hello', 8, 10]"
            ]
          },
          "metadata": {},
          "execution_count": 3
        }
      ]
    },
    {
      "cell_type": "markdown",
      "source": [
        "Let's pretend the spam includes the list ['a','b','c','d'] for the next three queries."
      ],
      "metadata": {
        "id": "7ydU9aXI6zoC"
      }
    },
    {
      "cell_type": "markdown",
      "source": [
        "3.What is the value of spam[int(int('3' * 2) / 11)]?\n",
        "\n",
        "Ans:\n",
        "\"d\""
      ],
      "metadata": {
        "id": "QsadIMU37F3x"
      }
    },
    {
      "cell_type": "markdown",
      "source": [
        "4.What is the value of spam[-1]?\n",
        "\n",
        "Ans:\n",
        "\"d\"\n"
      ],
      "metadata": {
        "id": "9pzQsOT874J5"
      }
    },
    {
      "cell_type": "markdown",
      "source": [
        "5.What is the value of spam[:2]?\n",
        "\n",
        "Ans:\n",
        "\"a\", \"b\""
      ],
      "metadata": {
        "id": "J79CIg6479qZ"
      }
    },
    {
      "cell_type": "markdown",
      "source": [
        "Lets pretend bacon has the list [3.14, 'cat', 11, 'cat', True] for the next three questions."
      ],
      "metadata": {
        "id": "5Sd8VBQ78Ip6"
      }
    },
    {
      "cell_type": "markdown",
      "source": [
        "6.What is the value of bacon.index('cat')?\n",
        "\n",
        "Ans:\n",
        "1"
      ],
      "metadata": {
        "id": "QBuxORzz8bRh"
      }
    },
    {
      "cell_type": "markdown",
      "source": [
        "7.How does bacon.append(99) change the look of the list value in bacon?\n",
        "\n",
        "Ans:\n",
        "It adds the \"99\" at the end of the list.\n",
        "\n",
        "[3.14, 'cat', 11, 'cat', True, 99]"
      ],
      "metadata": {
        "id": "REhiTVmcDksS"
      }
    },
    {
      "cell_type": "markdown",
      "source": [
        "8.How does bacon.remove('cat') change the look of the list in bacon?\n",
        "\n",
        "Ans:\n",
        "It removes the 1st cat value from the list.\n",
        "\n",
        "[3.14, 11, 'cat', True, 99]\n"
      ],
      "metadata": {
        "id": "5ce12c7AEDf6"
      }
    },
    {
      "cell_type": "markdown",
      "source": [
        "9.What are the list concatenation and list replication operators?\n",
        "\n",
        "Ans:\n",
        "\n",
        "List Concatenation operator is '+'\n",
        "\n",
        "List replication operator is '*' "
      ],
      "metadata": {
        "id": "m82tQ9uMEomS"
      }
    },
    {
      "cell_type": "markdown",
      "source": [
        "10.What is difference between the list methods append() and insert()?\n",
        "\n",
        "Ans:\n",
        "\n",
        "append()- It adds the elements at the end of the list.\n",
        "\n",
        "insert()- It inserts or adds the element at the given index of the list.\n"
      ],
      "metadata": {
        "id": "-rA0og37E_A6"
      }
    },
    {
      "cell_type": "markdown",
      "source": [
        "11.What are the two methods for removing items from a list?\n",
        "\n",
        "Ans:\n",
        "The two methods are:\n",
        "\n",
        "pop() - Removes the last item of the list\n",
        "\n",
        "remove()- Removes the item from the specified index of the list."
      ],
      "metadata": {
        "id": "NXge9EXxFTbS"
      }
    },
    {
      "cell_type": "markdown",
      "source": [
        "12.Describe how list values and string values are identical.\n",
        "\n",
        "Ans:\n",
        "The similarity between Lists and Strings in Python is that both are sequences\n",
        "\n",
        "Lists are mutable but Strings are immutable.\n",
        "\n",
        "Elements of a list can be of different types whereas a String only contains characters that are all of String type.\n",
        "\n",
        "\n"
      ],
      "metadata": {
        "id": "qOgORFWuFrQK"
      }
    },
    {
      "cell_type": "markdown",
      "source": [
        "13.What's the difference between tuples and lists?\n",
        "\n",
        "Ans:\n",
        "\n",
        "Tuples are immutable objects whereas the lists are mutable.\n",
        "\n",
        "Tuples are more memory efficient than the lists.\n",
        "\n"
      ],
      "metadata": {
        "id": "kUaD5MZ1Gbho"
      }
    },
    {
      "cell_type": "markdown",
      "source": [
        "14.How do you type a tuple value that only contains the integer 42?\n",
        "\n",
        "Ans:\n",
        "(42,)"
      ],
      "metadata": {
        "id": "axfQJXlLG-HB"
      }
    },
    {
      "cell_type": "markdown",
      "source": [
        "15.How do you get a list value's tuple form? How do you get a tuple value's list form?\n",
        "\n",
        "Ans:\n",
        "List comprehension along with zip() function is used to convert the tuples to list and create a list of tuples.\n"
      ],
      "metadata": {
        "id": "g7RMtPYuIEMA"
      }
    },
    {
      "cell_type": "markdown",
      "source": [
        "16.Variables that 'contain' list values are not necessarily lists themselves. Instead, what do they contain?\n",
        "\n",
        "Ans:\n",
        "Variables will contain references to list values rather than list values themselves.\n"
      ],
      "metadata": {
        "id": "AE5CXvaLJCAB"
      }
    },
    {
      "cell_type": "markdown",
      "source": [
        "17.How do you distinguish between copy.copy() and copy.deepcopy()?\n",
        "\n",
        "Ans:\n",
        "copy.copy() - Returns a shallow copy\n",
        "\n",
        "A shallow copy constructs a new compound object and then inserts references into it to the objects found in the original\n",
        "\n",
        "copy.deepcopy()-Returns a deep copy\n",
        "\n",
        "A deep copy constructs a new compound object and then, recursively, inserts copies into it of the objects found in the original.\n",
        "\n"
      ],
      "metadata": {
        "id": "2TFigjG8Jf14"
      }
    },
    {
      "cell_type": "code",
      "source": [
        ""
      ],
      "metadata": {
        "id": "_Us4UmbwDfx5"
      },
      "execution_count": null,
      "outputs": []
    }
  ]
}