{
  "nbformat": 4,
  "nbformat_minor": 0,
  "metadata": {
    "colab": {
      "name": "Assignment_8.ipynb",
      "provenance": [],
      "collapsed_sections": [],
      "authorship_tag": "ABX9TyOXxlirntgmXwsSaDH0CZ+a",
      "include_colab_link": true
    },
    "kernelspec": {
      "name": "python3",
      "display_name": "Python 3"
    },
    "language_info": {
      "name": "python"
    }
  },
  "cells": [
    {
      "cell_type": "markdown",
      "metadata": {
        "id": "view-in-github",
        "colab_type": "text"
      },
      "source": [
        "<a href=\"https://colab.research.google.com/github/17sachin/iNueron_Python_Basic_Assignment/blob/main/Assignment_8.ipynb\" target=\"_parent\"><img src=\"https://colab.research.google.com/assets/colab-badge.svg\" alt=\"Open In Colab\"/></a>"
      ]
    },
    {
      "cell_type": "markdown",
      "source": [
        "1.Is the Python Standard Library included with PyInputPlus?\n",
        "\n",
        "Ans:\n",
        "No , Its not included.\n",
        "\n",
        "We need to install via pip command - pip install PyInputPlus"
      ],
      "metadata": {
        "id": "abZsSwT_A_Md"
      }
    },
    {
      "cell_type": "markdown",
      "source": [
        "2.Why is PyInputPlus commonly imported with import pyinputplus as pypi?\n",
        "\n",
        "Ans:\n",
        "In order to enter a shorter name when calling the module's functions. "
      ],
      "metadata": {
        "id": "a6g7Q4yMCHOm"
      }
    },
    {
      "cell_type": "markdown",
      "source": [
        "3.How do you distinguish between inputInt() and inputFloat()?\n",
        "\n",
        "Ans:\n",
        "\n",
        "inputInt()- It accepts an integer value. It returns an int.\n",
        "\n",
        "inputFloat()- It accepts a floating point numeric value. Returns a float."
      ],
      "metadata": {
        "id": "5ihqByM4Ca1c"
      }
    },
    {
      "cell_type": "markdown",
      "source": [
        "4.Using PyInputPlus, how do you ensure that the user enters a whole number between 0 and 99?\n",
        "\n",
        "Ans:\n",
        "\n"
      ],
      "metadata": {
        "id": "CrF-UPwPDG_b"
      }
    },
    {
      "cell_type": "markdown",
      "source": [
        "5.What is transferred to the keyword arguments allowRegexes and blockRegexes?\n",
        "\n",
        "Ans:\n",
        "List of Regex strings."
      ],
      "metadata": {
        "id": "hK9qYkAcD4Sk"
      }
    },
    {
      "cell_type": "markdown",
      "source": [
        "6.If a blank input is entered three times, what does inputStr(limit=3) do?\n",
        "\n",
        "Ans:\n",
        "It does nothing."
      ],
      "metadata": {
        "id": "9Rs1YisfEFXz"
      }
    },
    {
      "cell_type": "markdown",
      "source": [
        "7.If blank input is entered three times, what does inputStr(limit=3, default='hello') do?\n",
        "\n",
        "Ans:\n",
        "It return nothing.\n"
      ],
      "metadata": {
        "id": "KaVTQjXtFPxj"
      }
    }
  ]
}