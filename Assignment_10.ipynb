{
  "nbformat": 4,
  "nbformat_minor": 0,
  "metadata": {
    "colab": {
      "name": "Assignment_10.ipynb",
      "provenance": [],
      "collapsed_sections": [],
      "authorship_tag": "ABX9TyPcGgiEYo2DttPzrZPmSt43",
      "include_colab_link": true
    },
    "kernelspec": {
      "name": "python3",
      "display_name": "Python 3"
    },
    "language_info": {
      "name": "python"
    }
  },
  "cells": [
    {
      "cell_type": "markdown",
      "metadata": {
        "id": "view-in-github",
        "colab_type": "text"
      },
      "source": [
        "<a href=\"https://colab.research.google.com/github/17sachin/iNueron_Python_Basic_Assignment/blob/main/Assignment_10.ipynb\" target=\"_parent\"><img src=\"https://colab.research.google.com/assets/colab-badge.svg\" alt=\"Open In Colab\"/></a>"
      ]
    },
    {
      "cell_type": "markdown",
      "source": [
        "1.How do you distinguish between shutil.copy() and shutil.copytree()?\n",
        "\n",
        "Ans:\n",
        "\n",
        "shutil.copy() - It will copy a single file.\n",
        "\n",
        "shutil.copytree() - It will copy an entire folder , every folder and file contained in it.\n"
      ],
      "metadata": {
        "id": "SWBROe-FLh0L"
      }
    },
    {
      "cell_type": "markdown",
      "source": [
        "2.What function is used to rename files?\n",
        "\n",
        "Ans:\n",
        "rename() function is used to change the name of the file or directory.\n"
      ],
      "metadata": {
        "id": "wlPOnfYtNWA0"
      }
    },
    {
      "cell_type": "markdown",
      "source": [
        "3.What is the difference between the delete functions in the send2trash and shutil modules?\n",
        "\n",
        "Ans:\n",
        "The send2trash functions will move a file or folder to the recycle bin, while shutil functions will permanently delete files and folders."
      ],
      "metadata": {
        "id": "U-mGO72NNplI"
      }
    },
    {
      "cell_type": "markdown",
      "source": [
        "4.ZipFile objects have a close() method just like File objects’ close() method. What ZipFile method is equivalent to File objects’ open() method?\n",
        "\n",
        "Ans:\n",
        "The extractall() method."
      ],
      "metadata": {
        "id": "Khrl_mxGOD_p"
      }
    },
    {
      "cell_type": "markdown",
      "source": [
        "5.Create a programme that searches a folder tree for files with a certain file extension (such as .pdf or .jpg). Copy these files from whatever location they are in to a new folder.\n",
        "\n",
        "Ans:\n",
        "\n"
      ],
      "metadata": {
        "id": "X93V6RgBOxpS"
      }
    },
    {
      "cell_type": "code",
      "source": [
        "import os, shutil\n",
        "\n",
        "def selectiveCopy(folder, extensions, destFolder):\n",
        "\tfolder = os.path.abspath(folder)\n",
        "\tdestFolder = os.path.abspath(destFolder)\n",
        "\tprint('Looking in', folder, 'for files with extensions of', ', '.join(extensions))\n",
        "\tfor foldername, subfolders, filenames in os.walk(folder):\n",
        "\t\tfor filename in filenames:\n",
        "\t\t\tname, extension = os.path.splitext(filename)\n",
        "\t\t\tif extension in extensions:\n",
        "\t\t\t\tfileAbsPath = foldername + os.path.sep + filename\n",
        "\t\t\t\tprint('Coping', fileAbsPath, 'to', destFolder)\n",
        "\t\t\t\tshutil.copy(fileAbsPath, destFolder)\n",
        "\n",
        "extensions = ['.php', '.py']\n",
        "folder = 'randomFolder'\n",
        "destFolder = 'selectiveFolder'\n",
        "selectiveCopy(folder, extensions, destFolder)"
      ],
      "metadata": {
        "colab": {
          "base_uri": "https://localhost:8080/"
        },
        "id": "Dczhb6N9PMgt",
        "outputId": "4b455583-3f6c-428a-d93e-f3d17b84df70"
      },
      "execution_count": 1,
      "outputs": [
        {
          "output_type": "stream",
          "name": "stdout",
          "text": [
            "Looking in /content/randomFolder for files with extensions of .php, .py\n"
          ]
        }
      ]
    },
    {
      "cell_type": "code",
      "source": [
        ""
      ],
      "metadata": {
        "id": "ZOpj1dbbPNej"
      },
      "execution_count": null,
      "outputs": []
    }
  ]
}