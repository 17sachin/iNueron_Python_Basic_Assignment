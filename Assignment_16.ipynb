{
  "nbformat": 4,
  "nbformat_minor": 0,
  "metadata": {
    "colab": {
      "name": "Assignment_16.ipynb",
      "provenance": [],
      "collapsed_sections": [],
      "authorship_tag": "ABX9TyMIxShcjZpRpN5yjk14aA+O",
      "include_colab_link": true
    },
    "kernelspec": {
      "name": "python3",
      "display_name": "Python 3"
    },
    "language_info": {
      "name": "python"
    }
  },
  "cells": [
    {
      "cell_type": "markdown",
      "metadata": {
        "id": "view-in-github",
        "colab_type": "text"
      },
      "source": [
        "<a href=\"https://colab.research.google.com/github/17sachin/iNueron_Python_Basic_Assignment/blob/main/Assignment_16.ipynb\" target=\"_parent\"><img src=\"https://colab.research.google.com/assets/colab-badge.svg\" alt=\"Open In Colab\"/></a>"
      ]
    },
    {
      "cell_type": "markdown",
      "source": [
        "1.Create a list called years_list, starting with the year of your birth, and each year thereafter until the year of your fifth birthday. For example, if you were born in 1980. the list would be years_list = [1980, 1981, 1982, 1983, 1984, 1985]."
      ],
      "metadata": {
        "id": "2db27PZstmHw"
      }
    },
    {
      "cell_type": "code",
      "source": [
        "years_list=[1987,1988,1989,1990,1991,1992]"
      ],
      "metadata": {
        "id": "avn9unPlttBh"
      },
      "execution_count": 5,
      "outputs": []
    },
    {
      "cell_type": "markdown",
      "source": [
        "2.In which year in years_list was your third birthday? Remember, you were 0 years of age for your first year.\n",
        "\n",
        "Ans:\n",
        "\n",
        "year_list[3]"
      ],
      "metadata": {
        "id": "mbRytpM0uB0D"
      }
    },
    {
      "cell_type": "code",
      "source": [
        "years_list[3]"
      ],
      "metadata": {
        "colab": {
          "base_uri": "https://localhost:8080/"
        },
        "id": "LWlyXVVfuS48",
        "outputId": "9e872aed-2044-4792-90a1-6761385fb63e"
      },
      "execution_count": 7,
      "outputs": [
        {
          "output_type": "execute_result",
          "data": {
            "text/plain": [
              "1990"
            ]
          },
          "metadata": {},
          "execution_count": 7
        }
      ]
    },
    {
      "cell_type": "markdown",
      "source": [
        "3.In the years list, which year were you the oldest?\n",
        "\n",
        "Ans:"
      ],
      "metadata": {
        "id": "l5uOeANNufgb"
      }
    },
    {
      "cell_type": "code",
      "source": [
        "years_list[5]"
      ],
      "metadata": {
        "colab": {
          "base_uri": "https://localhost:8080/"
        },
        "id": "CeTBjRmXujbr",
        "outputId": "f1be5118-752c-481a-9367-a24f8e27eb9b"
      },
      "execution_count": 8,
      "outputs": [
        {
          "output_type": "execute_result",
          "data": {
            "text/plain": [
              "1992"
            ]
          },
          "metadata": {},
          "execution_count": 8
        }
      ]
    },
    {
      "cell_type": "markdown",
      "source": [
        "4.Make a list called things with these three strings as elements: 'mozzarella','cinderella', 'salmonella'.\n",
        "\n",
        "Ans:\n"
      ],
      "metadata": {
        "id": "NjY9xdzuusob"
      }
    },
    {
      "cell_type": "code",
      "source": [
        "things=['mozzarella','cinderella','salmonella']"
      ],
      "metadata": {
        "id": "BA1jhZYHu7RD"
      },
      "execution_count": 19,
      "outputs": []
    },
    {
      "cell_type": "markdown",
      "source": [
        "5.Capitalize the element in things that refers to a person and then print the list. Did it change the element in the list?\n",
        "\n",
        "Ans:\n",
        "\n",
        "\n",
        "for i in range(len(things)):\n",
        "\n",
        "  things[i] = things[i].title()\n",
        "\n",
        "print(things)"
      ],
      "metadata": {
        "id": "ALBNnk2fvP-M"
      }
    },
    {
      "cell_type": "markdown",
      "source": [
        "6.Make a surprise list with the elements 'Groucho', 'Chico' and 'Harpo'.\n",
        "\n",
        "Ans:\n",
        "\n",
        "surprise=['Groucho','Chico','Harpo']"
      ],
      "metadata": {
        "id": "jnjCNC_KxiY7"
      }
    },
    {
      "cell_type": "code",
      "source": [
        "surprise=['Groucho','Chico','Harpo']"
      ],
      "metadata": {
        "id": "SJXmLJ1Vx3FC"
      },
      "execution_count": 22,
      "outputs": []
    },
    {
      "cell_type": "markdown",
      "source": [
        "7.Lowercase the last element of the surprise list, reverse it, and then capitalize it.\n",
        "\n",
        "Ans:\n"
      ],
      "metadata": {
        "id": "RJDy6PXex8ia"
      }
    },
    {
      "cell_type": "code",
      "source": [
        ""
      ],
      "metadata": {
        "id": "BfAMNJbOx-66"
      },
      "execution_count": null,
      "outputs": []
    },
    {
      "cell_type": "markdown",
      "source": [
        "8.Make an English-to-French dictionary called e2f and print it. Here are your starter words: dog is chien, cat is chat, and walrus is morse.\n",
        "\n",
        "Ans:\n",
        "e2f={'dog':'chien','cat':'chat','walrus':'morse'}"
      ],
      "metadata": {
        "id": "hgmFD7c4zSH0"
      }
    },
    {
      "cell_type": "code",
      "source": [
        "e2f={'dog':'chien','cat':'chat','walrus':'morse'}"
      ],
      "metadata": {
        "id": "ZRSh5Cdazzw6"
      },
      "execution_count": 23,
      "outputs": []
    },
    {
      "cell_type": "markdown",
      "source": [
        "9.Write the French word for walrus in your three-word dictionary e2f.\n",
        "\n",
        "Ans:"
      ],
      "metadata": {
        "id": "JDkUX1Mrz55J"
      }
    },
    {
      "cell_type": "code",
      "source": [
        "e2f['walrus']"
      ],
      "metadata": {
        "colab": {
          "base_uri": "https://localhost:8080/",
          "height": 35
        },
        "id": "90ShV03w0FnV",
        "outputId": "0c195dd2-f977-4b40-fbc7-103007fe5956"
      },
      "execution_count": 31,
      "outputs": [
        {
          "output_type": "execute_result",
          "data": {
            "application/vnd.google.colaboratory.intrinsic+json": {
              "type": "string"
            },
            "text/plain": [
              "'morse'"
            ]
          },
          "metadata": {},
          "execution_count": 31
        }
      ]
    },
    {
      "cell_type": "markdown",
      "source": [
        "10.Make a French-to-English dictionary called f2e from e2f. Use the items method.\n",
        "\n",
        "Ans:\n"
      ],
      "metadata": {
        "id": "TLrHm0gH1TM5"
      }
    },
    {
      "cell_type": "code",
      "source": [
        "e2f = {'dog': 'chien', 'cat': 'chat', 'walrus': 'morse'}\n",
        "f2e = {}\n",
        "for english, french in e2f.items():\n",
        "    f2e[french] = english"
      ],
      "metadata": {
        "id": "grd2EQRE3EFJ"
      },
      "execution_count": 33,
      "outputs": []
    },
    {
      "cell_type": "code",
      "source": [
        "f2e"
      ],
      "metadata": {
        "colab": {
          "base_uri": "https://localhost:8080/"
        },
        "id": "nTNNbDbC3JBN",
        "outputId": "b3863557-2204-438a-8027-5e5ba1c80c72"
      },
      "execution_count": 34,
      "outputs": [
        {
          "output_type": "execute_result",
          "data": {
            "text/plain": [
              "{'chat': 'cat', 'chien': 'dog', 'morse': 'walrus'}"
            ]
          },
          "metadata": {},
          "execution_count": 34
        }
      ]
    },
    {
      "cell_type": "markdown",
      "source": [
        "11.Print the English version of the French word chien using f2e.\n",
        "\n",
        "Ans:\n"
      ],
      "metadata": {
        "id": "01sS_UxC3TxY"
      }
    },
    {
      "cell_type": "code",
      "source": [
        "f2e['chien']"
      ],
      "metadata": {
        "colab": {
          "base_uri": "https://localhost:8080/",
          "height": 35
        },
        "id": "E0Ew9llc3u1o",
        "outputId": "83db0d04-da41-49b4-c1ed-04d671fb4398"
      },
      "execution_count": 35,
      "outputs": [
        {
          "output_type": "execute_result",
          "data": {
            "application/vnd.google.colaboratory.intrinsic+json": {
              "type": "string"
            },
            "text/plain": [
              "'dog'"
            ]
          },
          "metadata": {},
          "execution_count": 35
        }
      ]
    },
    {
      "cell_type": "markdown",
      "source": [
        "12.Make and print a set of English words from the keys in e2f.\n",
        "\n",
        "Ans:"
      ],
      "metadata": {
        "id": "uRpchb3133-B"
      }
    },
    {
      "cell_type": "code",
      "source": [
        "e2f.keys()"
      ],
      "metadata": {
        "colab": {
          "base_uri": "https://localhost:8080/"
        },
        "id": "oSLH86nU370J",
        "outputId": "fcd38f68-d637-47a6-b1bb-1697187a6d53"
      },
      "execution_count": 36,
      "outputs": [
        {
          "output_type": "execute_result",
          "data": {
            "text/plain": [
              "dict_keys(['dog', 'cat', 'walrus'])"
            ]
          },
          "metadata": {},
          "execution_count": 36
        }
      ]
    },
    {
      "cell_type": "markdown",
      "source": [
        "13.Make a multilevel dictionary called life. Use these strings for the topmost keys: 'animals','plants',\n",
        "and 'other'. Make the'animals' key refer to another dictionary with the keys &'cats', 'octopi', and 'emus'. Make the 'cats' key refer to a list of strings with the values 'Henri', 'Grumpy', and'Lucy'. Make all the other keys refer to empty dictionaries."
      ],
      "metadata": {
        "id": "4et1IJgs4Fhx"
      }
    },
    {
      "cell_type": "code",
      "source": [
        "life={'animals':{'cats':['Henri','Grumpy','Lucy'],'octopi':{},'emus':{}},'plants':{},'other':{}}"
      ],
      "metadata": {
        "id": "S7is-3LE4sgy"
      },
      "execution_count": 37,
      "outputs": []
    },
    {
      "cell_type": "code",
      "source": [
        ""
      ],
      "metadata": {
        "id": "fDuFm3ss57h9"
      },
      "execution_count": null,
      "outputs": []
    },
    {
      "cell_type": "markdown",
      "source": [
        "14.Print the top-level keys of life.\n",
        "\n",
        "Ans:"
      ],
      "metadata": {
        "id": "AoI6ulFB5-L4"
      }
    },
    {
      "cell_type": "code",
      "source": [
        "life.keys()"
      ],
      "metadata": {
        "colab": {
          "base_uri": "https://localhost:8080/"
        },
        "id": "nXL7mjXF6CG4",
        "outputId": "6412f1e3-0b10-49c6-e514-1c8208d1eaf4"
      },
      "execution_count": 38,
      "outputs": [
        {
          "output_type": "execute_result",
          "data": {
            "text/plain": [
              "dict_keys(['animals', 'plants', 'other'])"
            ]
          },
          "metadata": {},
          "execution_count": 38
        }
      ]
    },
    {
      "cell_type": "markdown",
      "source": [
        "15.Print the keys for life['animals'].\n",
        "\n",
        "Ans:\n"
      ],
      "metadata": {
        "id": "kRjQ6-lT6LrY"
      }
    },
    {
      "cell_type": "code",
      "source": [
        "life['animals'].keys()"
      ],
      "metadata": {
        "colab": {
          "base_uri": "https://localhost:8080/"
        },
        "id": "2I81H3SV6Ttg",
        "outputId": "82209837-3058-4b97-c8b9-3050054373c0"
      },
      "execution_count": 40,
      "outputs": [
        {
          "output_type": "execute_result",
          "data": {
            "text/plain": [
              "dict_keys(['cats', 'octopi', 'emus'])"
            ]
          },
          "metadata": {},
          "execution_count": 40
        }
      ]
    },
    {
      "cell_type": "markdown",
      "source": [
        "16.Print the values for life['animals']['cats']\n",
        "\n",
        "Ans:\n"
      ],
      "metadata": {
        "id": "TSQNK1QC6sJR"
      }
    },
    {
      "cell_type": "code",
      "source": [
        "life['animals']['cats']"
      ],
      "metadata": {
        "colab": {
          "base_uri": "https://localhost:8080/"
        },
        "id": "7Oe49RhK61GA",
        "outputId": "97d5276e-ed5b-45de-82f9-66e673a262e7"
      },
      "execution_count": 42,
      "outputs": [
        {
          "output_type": "execute_result",
          "data": {
            "text/plain": [
              "['Henri', 'Grumpy', 'Lucy']"
            ]
          },
          "metadata": {},
          "execution_count": 42
        }
      ]
    },
    {
      "cell_type": "code",
      "source": [
        ""
      ],
      "metadata": {
        "id": "y5zHmHak686R"
      },
      "execution_count": null,
      "outputs": []
    }
  ]
}