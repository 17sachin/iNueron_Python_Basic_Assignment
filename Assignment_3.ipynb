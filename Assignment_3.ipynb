{
  "nbformat": 4,
  "nbformat_minor": 0,
  "metadata": {
    "colab": {
      "name": "Assignment_3.ipynb",
      "provenance": [],
      "collapsed_sections": [],
      "authorship_tag": "ABX9TyNxKZ8LRAMF+6whG5zU3TgO",
      "include_colab_link": true
    },
    "kernelspec": {
      "name": "python3",
      "display_name": "Python 3"
    },
    "language_info": {
      "name": "python"
    }
  },
  "cells": [
    {
      "cell_type": "markdown",
      "metadata": {
        "id": "view-in-github",
        "colab_type": "text"
      },
      "source": [
        "<a href=\"https://colab.research.google.com/github/17sachin/iNueron_Python_Basic_Assignment/blob/main/Assignment_3.ipynb\" target=\"_parent\"><img src=\"https://colab.research.google.com/assets/colab-badge.svg\" alt=\"Open In Colab\"/></a>"
      ]
    },
    {
      "cell_type": "markdown",
      "source": [
        "1.Why are functions advantageous to have in your programs?\n",
        "\n",
        "Ans: Advantages of Functions\n",
        "\n",
        "Use of Functions enhances the readibility of a program.\n",
        "\n",
        "Functions keeps the program organised , easy to understand and makes it reusable.\n",
        "\n",
        "Avoids the repetition of the code and chances of error."
      ],
      "metadata": {
        "id": "jVK9WLcfon6F"
      }
    },
    {
      "cell_type": "markdown",
      "source": [
        "2.When does the code in a function run: when its specified or when its called?\n",
        "\n",
        "Ans:\n",
        "When the function is called."
      ],
      "metadata": {
        "id": "yF2ksvWVpdUX"
      }
    },
    {
      "cell_type": "markdown",
      "source": [
        "3.What statement creates a function?\n",
        "\n",
        "Ans:\n",
        "The 'def' keyword is a statement for defining a function."
      ],
      "metadata": {
        "id": "P0FEg8_1p22-"
      }
    },
    {
      "cell_type": "markdown",
      "source": [
        "4.What is the difference between a function and a function call?\n",
        "\n",
        "Ans:\n",
        "A Function is a group of statements that together perform a task.\n",
        "\n",
        "A function call is invoking or calling the defined function to achieve the task"
      ],
      "metadata": {
        "id": "NUIJZby7qLpd"
      }
    },
    {
      "cell_type": "markdown",
      "source": [
        "5.How many global scopes are there in a Python program? How many local scopes?\n",
        "\n",
        "Ans:There is only one global Python scope per program execution.This scope remains in existence until the program terminates and all its names are forgotten.\n"
      ],
      "metadata": {
        "id": "iFT8TeAlrFEN"
      }
    },
    {
      "cell_type": "markdown",
      "source": [
        "6.What happens to variables in a local scope when the function call returns?\n",
        "\n",
        "Ans:\n",
        "The local variables are destroyed."
      ],
      "metadata": {
        "id": "AFNERSZNyzJ3"
      }
    },
    {
      "cell_type": "markdown",
      "source": [
        "7.What is the concept of a return value? Is it possible to have a return value in an expression?\n",
        "\n",
        "Ans:\n",
        "A return statement is used to end the execution of the function call and return the result to the caller.\n",
        "\n",
        "Yes, its possible to have a return value in an expression."
      ],
      "metadata": {
        "id": "0hQURNsGzP2t"
      }
    },
    {
      "cell_type": "markdown",
      "source": [
        "8.If a function does not have a return statement, what is the return value of a call to that function?\n",
        "\n",
        "Ans:\n",
        "It returns None"
      ],
      "metadata": {
        "id": "ic53SRE60MoM"
      }
    },
    {
      "cell_type": "markdown",
      "source": [
        "9.How do you make a function variable refer to the global variable?\n",
        "\n",
        "Ans:\n",
        "We can use the global as a prefix to any variable in order to make it global inside a local scope."
      ],
      "metadata": {
        "id": "p0hC-deJ106D"
      }
    },
    {
      "cell_type": "markdown",
      "source": [
        "10.What is the data type of None?\n",
        "\n",
        "Ans:\n",
        "None is a data type of its own (None type)"
      ],
      "metadata": {
        "id": "__7IoY7v2mP-"
      }
    },
    {
      "cell_type": "markdown",
      "source": [
        "11.What does the sentence import areallyourpetsnamederic do?\n",
        "\n",
        "Ans:That import statement imports a module named areallyourpetsnamederic"
      ],
      "metadata": {
        "id": "QGo5SpPV3Awb"
      }
    },
    {
      "cell_type": "markdown",
      "source": [
        "12.If you had a bacon() feature in a spam module, what would you call it after importing spam?\n",
        "\n",
        "Ans:spam.bacon()"
      ],
      "metadata": {
        "id": "J4HJdMo33R1S"
      }
    },
    {
      "cell_type": "markdown",
      "source": [
        "13.What can you do to save a programme from crashing if it encounters an error?\n",
        "\n",
        "Ans:\n",
        "Error handling technique can be used.\n",
        "\n",
        "eg: try except methods"
      ],
      "metadata": {
        "id": "qOesUKl_3iH6"
      }
    },
    {
      "cell_type": "markdown",
      "source": [
        "14.What is the purpose of the try clause? What is the purpose of the except clause?\n",
        "\n",
        "Ans:\n",
        "\n",
        "Try clause: It allows to define a block of code to be tested for errors while it is being executed.\n",
        "\n",
        "Except clause : It catches an exception.It is used to test code for an error which is written in the try statement.If an error is encountered, the contents of the except block are run"
      ],
      "metadata": {
        "id": "ngu9Ecyq34pT"
      }
    }
  ]
}