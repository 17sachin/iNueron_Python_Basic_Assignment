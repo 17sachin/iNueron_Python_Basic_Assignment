{
  "nbformat": 4,
  "nbformat_minor": 0,
  "metadata": {
    "colab": {
      "name": "Assignment_24.ipynb",
      "provenance": [],
      "collapsed_sections": [],
      "authorship_tag": "ABX9TyMCyMUBrx+i5kYKs/bqenjC",
      "include_colab_link": true
    },
    "kernelspec": {
      "name": "python3",
      "display_name": "Python 3"
    },
    "language_info": {
      "name": "python"
    }
  },
  "cells": [
    {
      "cell_type": "markdown",
      "metadata": {
        "id": "view-in-github",
        "colab_type": "text"
      },
      "source": [
        "<a href=\"https://colab.research.google.com/github/17sachin/iNueron_Python_Basic_Assignment/blob/main/Assignment_24.ipynb\" target=\"_parent\"><img src=\"https://colab.research.google.com/assets/colab-badge.svg\" alt=\"Open In Colab\"/></a>"
      ]
    },
    {
      "cell_type": "markdown",
      "source": [
        "1.What is the relationship between def statements and lambda expressions ?\n",
        "\n",
        "Def can hold multiple expressions while lambda is a uni-expression function. Def generates a function and designates a name to call it later. Lambda forms a function object and returns it.Lambda supports to get used inside a list and dictionary.\n",
        "\n",
        "A lambda is more flexible as expressions can be part of more language constructs. In contrast, a def is more powerful as it can consist of more language constructs. These differences derive directly from one being an expression and the other being a statement"
      ],
      "metadata": {
        "id": "d6BM5VaTX7pn"
      }
    },
    {
      "cell_type": "markdown",
      "source": [
        "2.What is the benefit of lambda?\n",
        "\n",
        "AWS Lambda allows you to integrate your application server needs with mass-mailing services such as SES. Thus, you can consolidate more of the functionality your team requires to operate under one house. This not only reduces administrative costs but also makes your team's workflow more streamlined and efficient."
      ],
      "metadata": {
        "id": "3bA3YAiaYJmn"
      }
    },
    {
      "cell_type": "markdown",
      "source": [
        "3.Compare and contrast map, filter, and reduce.\n",
        "\n",
        "Both map and reduce have as input the array and a function you define. They are in some way complementary: map cannot return one single element for an array of multiple elements, while reduce will always return the accumulator you eventually changed.\n",
        "\n",
        "map creates a new array by transforming every element in an array individually. filter creates a new array by removing elements that don't belong. reduce , on the other hand, takes all of the elements in an array and reduces them into a single value."
      ],
      "metadata": {
        "id": "GClm5kHpYRH3"
      }
    },
    {
      "cell_type": "markdown",
      "source": [
        "4.What are function annotations, and how are they used?\n",
        "\n",
        "Function annotations are completely optional both for parameters and return value. Function annotations provide a way of associating various parts of a function with arbitrary python expressions at compile time. The PEP-3107 makes no attempt to introduce any kind of standard semantics, even for the built-in types."
      ],
      "metadata": {
        "id": "kiprjTXvYdAu"
      }
    },
    {
      "cell_type": "markdown",
      "source": [
        "5.What are recursive functions, and how are they used?\n",
        "\n",
        "A recursive function is a function that calls itself during its execution. The process may repeat several times, outputting the result and the end of each iteration.\n",
        "\n",
        "Recursive functions allow programmers to write efficient programs using a minimal amount of code. The downside is that they can cause infinite loops and other unexpected results if not written properly. For example, in the example above, the function is terminated if the number is 0 or less or greater than 9. If proper cases are not included in a recursive function to stop the execution, it will repeat forever, causing the program to crash or become unresponsive."
      ],
      "metadata": {
        "id": "SaxxFqPEYmQI"
      }
    },
    {
      "cell_type": "markdown",
      "source": [
        "6.What are some general design guidelines for coding functions?\n",
        "\n",
        "Safe: It can be used without causing harm.\n",
        "\n",
        "Secure: It can't be hacked.\n",
        "\n",
        "Reliable: It functions as it should, every time.\n",
        "\n",
        "Testable: It can be tested at the code level.\n",
        "\n",
        "Maintainable: It can be maintained, even as your codebase grows.\n",
        "\n",
        "Portable: It works the same in every environment.\n",
        "\n",
        "\n"
      ],
      "metadata": {
        "id": "-aUfsEZLYxQ3"
      }
    },
    {
      "cell_type": "markdown",
      "source": [
        "7.Name three or more ways that functions can communicate results to a caller.\n",
        "\n",
        "Call by Value.\n",
        "\n",
        "Call by Reference."
      ],
      "metadata": {
        "id": "y82AN3GHZCov"
      }
    }
  ]
}