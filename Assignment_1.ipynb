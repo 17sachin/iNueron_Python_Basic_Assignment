{
  "nbformat": 4,
  "nbformat_minor": 0,
  "metadata": {
    "colab": {
      "name": "Assignment_1.ipynb",
      "provenance": [],
      "collapsed_sections": [],
      "authorship_tag": "ABX9TyOpSffRqfQs6KASXGUskEM+",
      "include_colab_link": true
    },
    "kernelspec": {
      "name": "python3",
      "display_name": "Python 3"
    },
    "language_info": {
      "name": "python"
    }
  },
  "cells": [
    {
      "cell_type": "markdown",
      "metadata": {
        "id": "view-in-github",
        "colab_type": "text"
      },
      "source": [
        "<a href=\"https://colab.research.google.com/github/17sachin/iNueron_Python_Basic_Assignment/blob/main/Assignment_1.ipynb\" target=\"_parent\"><img src=\"https://colab.research.google.com/assets/colab-badge.svg\" alt=\"Open In Colab\"/></a>"
      ]
    },
    {
      "cell_type": "markdown",
      "metadata": {
        "id": "hIPupVjamJx1"
      },
      "source": [
        "1.In the below elements which of them are values or an expression? eg:- values can be integer or string and expressions will be mathematical operators.\n",
        "* \n",
        "'hello'\n",
        "-87.8\n",
        "- \n",
        "/ \n",
        "+\t\n",
        "6 \n",
        "\n",
        "\n",
        "Ans: Values are: \"hello\" , -87.8 , 6\n",
        "\n",
        "Expressions are : *,-,/,+"
      ]
    },
    {
      "cell_type": "markdown",
      "metadata": {
        "id": "wvxqvMZimiSA"
      },
      "source": [
        "2.What is the difference between string and variable?\n",
        "\n",
        "Ans: String - A string is a sequence of characters.\n",
        "\n",
        "It is a derived data type.\n",
        "\n",
        "Strings are immutable. \n",
        " \n",
        "Strings can be modified using various python methods e.g replace() , join(),modify(). String examples: \"Sachin\", \"12345\"\n",
        "\n",
        "Variable - A variable is a name given to a memory location.\n",
        "\n",
        "It is reserved memory location to store values.\n",
        "\n",
        "Value stored in a variable can be changed during program execution. e.g- a=\"sach\" here a is varaible which stores a string value \"sach\" , similarly b=123.\n",
        "\n"
      ]
    },
    {
      "cell_type": "markdown",
      "metadata": {
        "id": "Reaj_Ri3mIOV"
      },
      "source": [
        "3.Describe 3 different data types?\n",
        "\n",
        "Ans:A data type in programming is a classification that specifies which type of value a variable has and what type of mathematical ,relational or logical operations can be applied to it without causing an error.\n",
        "Different data types are:\n",
        "integer,string,float,character,boolean\n",
        "\n",
        "Integer:An integer data type represents some range of mathematical integers.It basically represents whole numbers. e.g-12,89\n",
        "\n",
        "String: A string is a sequence of characters. It is either a literal constant or some kind of variable. e.g- \"sachin\", \"1234\"\n",
        "\n",
        "Boolean : A boolean data type has one of two possible values(True or False).It intends to represent two truth valuesof logic. e.g-True ,False"
      ]
    },
    {
      "cell_type": "markdown",
      "metadata": {
        "id": "J6Go-nzZYVyD"
      },
      "source": [
        "4.What is an expression made up of? What do all expressions do?\n",
        "\n",
        "Ans : An expression is a combination of values, variables ,operators and calls to functions.\n",
        "\n",
        " Expressions needs to be evaluated. \n",
        " \n",
        " It is basic building block of all programs. e.g- 1+1 ,\"hello\" + \"world\"\n",
        "\n",
        "In simple words Expressions are representation of value.Any string is also an expression since it represents the value of the string  as well."
      ]
    },
    {
      "cell_type": "markdown",
      "metadata": {
        "id": "CUWh4d6Ua1Qh"
      },
      "source": [
        "5.This assignments statements ,like spam=10.What is the difference between an expression and a statement?\n",
        "\n",
        "Ans:An expression evaluates to a value. \n",
        "\n",
        "It is a combination of values , variables ,operators and calls to functions.\n",
        "\n",
        "A statement is an instruction that an interpreter can execute .\n",
        "\n",
        "Anything that do something.\n",
        "while ,for ,if , import statements are some examples."
      ]
    },
    {
      "cell_type": "markdown",
      "metadata": {
        "id": "GPWpx3B7dmqH"
      },
      "source": [
        "6.After runnung the following code,what does the variable bacon contain? \n",
        "\n",
        "bacon=22\n",
        "\n",
        "bacon+1\n",
        "\n",
        "Ans:bacon contains value of 23"
      ]
    },
    {
      "cell_type": "markdown",
      "metadata": {
        "id": "tJSl5_dpeXy8"
      },
      "source": [
        "7.What should the values of the following two terms be?\n",
        "\n",
        "Ans:'spam'+'spamspam' = 'spamspamspam'\n",
        "\n",
        "'spam' * 3 = 'spamspamspam'"
      ]
    },
    {
      "cell_type": "markdown",
      "metadata": {
        "id": "Ab7eK1b6e9_E"
      },
      "source": [
        "8.Why is eggs a valid variable name while 100 is invalid?\n",
        "\n",
        "Ans: eggs is a valid variable name because variable name can start  with a char whereas 100 is invalid because variable name does not start with number."
      ]
    },
    {
      "cell_type": "markdown",
      "metadata": {
        "id": "rflAV5zDfjwd"
      },
      "source": [
        "9.What three functions can be used to get the integer, floating-point number, or string version of a value?\n",
        "\n",
        "Ans:int() function for integer\n",
        "\n",
        "float() function for floating-point number\n",
        "\n",
        "str() function for string"
      ]
    },
    {
      "cell_type": "markdown",
      "metadata": {
        "id": "V0CP7j5Tgg_9"
      },
      "source": [
        "10.Why does this expression cause an error? How can you fix it?\n",
        "\n",
        "'I have eaten ' + 99 + ' burritos.'\n",
        "\n",
        "Ans:Error is beacause concatenation can be performed on similar data types.Here 99 is an integer data type , whereas other two are string ,so concatenation of str and int is not possible.\n",
        "\n",
        "In order to fix this error we need to change the data type of integer to string type and perform the operation.\n",
        "\n",
        "'I have eaten ' + '99' + ' burritos.'"
      ]
    }
  ]
}