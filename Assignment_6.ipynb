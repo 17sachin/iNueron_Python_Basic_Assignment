{
  "nbformat": 4,
  "nbformat_minor": 0,
  "metadata": {
    "colab": {
      "name": "Assignment_6.ipynb",
      "provenance": [],
      "collapsed_sections": [],
      "authorship_tag": "ABX9TyN+mhVv6Y2fQIQyfpS6t9CA",
      "include_colab_link": true
    },
    "kernelspec": {
      "name": "python3",
      "display_name": "Python 3"
    },
    "language_info": {
      "name": "python"
    }
  },
  "cells": [
    {
      "cell_type": "markdown",
      "metadata": {
        "id": "view-in-github",
        "colab_type": "text"
      },
      "source": [
        "<a href=\"https://colab.research.google.com/github/17sachin/iNueron_Python_Basic_Assignment/blob/main/Assignment_6.ipynb\" target=\"_parent\"><img src=\"https://colab.research.google.com/assets/colab-badge.svg\" alt=\"Open In Colab\"/></a>"
      ]
    },
    {
      "cell_type": "markdown",
      "source": [
        "1.What are escape characters, and how do you use them?\n",
        "\n",
        "Ans:Escape character is a backslash \\ followed by the character.\n",
        "\n",
        "Use of escape (backslash)\n",
        "\n",
        "\"\\t\"-It is a tab\n",
        "\n",
        "\"\\n\"-It is a new line\n",
        "\n",
        "\"\\r\"-It is a carriage return."
      ],
      "metadata": {
        "id": "B_s4KBsVgBcl"
      }
    },
    {
      "cell_type": "markdown",
      "source": [
        "2.What do the escape characters n and t stand for?\n",
        "\n",
        "Ans:\n",
        "\n",
        "\"n\" stands for new line.\n",
        "\n",
        "\"t\" stands for a tab."
      ],
      "metadata": {
        "id": "5sD3GDqegw8m"
      }
    },
    {
      "cell_type": "markdown",
      "source": [
        "3.What is the way to include backslash characters in a string?\n",
        "\n",
        "Ans:\n",
        "\n",
        "By using two backslashes (\\\\)"
      ],
      "metadata": {
        "id": "RX5MQUlXhFic"
      }
    },
    {
      "cell_type": "markdown",
      "source": [
        "4.The string \"Howl's Moving Castle\" is a correct value. Why isn't the single quote character in the word Howl's not escaped a problem?\n",
        "\n",
        "Ans:\n",
        "Because there is a double quotes to mark the beginning and end of the string.\n"
      ],
      "metadata": {
        "id": "lVQ_cmg_htcj"
      }
    },
    {
      "cell_type": "markdown",
      "source": [
        "5.How do you write a string of newlines if you don't want to use the n character?\n",
        "\n",
        "Ans:\n",
        "By adding end=\" \" inside print() \n"
      ],
      "metadata": {
        "id": "Zrcl-jvCkaKt"
      }
    },
    {
      "cell_type": "markdown",
      "source": [
        "6.What are the values of the given expressions?\n",
        "\n",
        "'Hello, World!'[1] - e\n",
        "\n",
        "'Hello, World!'[0:5] - Hello\n",
        "\n",
        "'Hello, World!'[:5] - Hello\n",
        "\n",
        "'Hello, World!'[:3]  - Hel\n",
        "\n",
        "\n"
      ],
      "metadata": {
        "id": "i_pGGnGxlelr"
      }
    },
    {
      "cell_type": "markdown",
      "source": [
        "7.What are the values of the following expressions?\n",
        "\n",
        "'Hello'.upper()- 'HELLO'\n",
        "\n",
        "'Hello'.upper().isupper()- True\n",
        "\n",
        "'Hello'.upper().lower()- 'hello"
      ],
      "metadata": {
        "id": "3jt8RXlGmIE9"
      }
    },
    {
      "cell_type": "markdown",
      "source": [
        "8.What are the values of the following expressions?\n",
        "\n",
        "'Remember, remember, the fifth of July.'.split()\n",
        "\n",
        "['Remember,', 'remember,', 'the', 'fifth', 'of', 'July.']\n",
        "\n",
        "'-'.join(There can only one.'.split())\n",
        "\n",
        "'There-can-only-one.'"
      ],
      "metadata": {
        "id": "mAQf0Ydrm5XU"
      }
    },
    {
      "cell_type": "markdown",
      "source": [
        "9.What are the methods for right-justifying, left-justifying, and centering a string?\n",
        "\n",
        "Ans:\n",
        "\n",
        "right-justifying - rjust() method will right align the string.\n",
        "\n",
        "left-justifying - ljust() method will left align the string.\n",
        "\n",
        "centering - center() method will center align the string\n"
      ],
      "metadata": {
        "id": "Kcyxha0fohwh"
      }
    },
    {
      "cell_type": "markdown",
      "source": [
        "10.What is the best way to remove whitespace characters from the start or end?\n",
        "\n",
        "Ans:\n",
        "trimStart() or trimEnd() method are used to remove whitespace characters from start and end."
      ],
      "metadata": {
        "id": "k-nTuLFdp8E7"
      }
    }
  ]
}